{
 "cells": [
  {
   "cell_type": "markdown",
   "metadata": {},
   "source": [
    "# Deep Q-Learning - Lunar Lander\n",
    "\n",
    "In this assignment, you will train an agent to land a lunar lander safely on a landing pad on the surface of the moon.\n",
    "\n",
    "\n",
    "# Outline\n",
    "- [ 1 - Import Packages <img align=\"Right\" src=\"./images/lunar_lander.gif\" width = 60% >](#1)\n",
    "- [ 2 - Hyperparameters](#2)\n",
    "- [ 3 - The Lunar Lander Environment](#3)\n",
    "  - [ 3.1 Action Space](#3.1)\n",
    "  - [ 3.2 Observation Space](#3.2)\n",
    "  - [ 3.3 Rewards](#3.3)\n",
    "  - [ 3.4 Episode Termination](#3.4)\n",
    "- [ 4 - Load the Environment](#4)\n",
    "- [ 5 - Interacting with the Gym Environment](#5)\n",
    "    - [ 5.1 Exploring the Environment's Dynamics](#5.1)\n",
    "- [ 6 - Deep Q-Learning](#6)\n",
    "  - [ 6.1 Target Network](#6.1)\n",
    "    - [ Exercise 1](#ex01)\n",
    "  - [ 6.2 Experience Replay](#6.2)\n",
    "- [ 7 - Deep Q-Learning Algorithm with Experience Replay](#7)\n",
    "  - [ Exercise 2](#ex02)\n",
    "- [ 8 - Update the Network Weights](#8)\n",
    "- [ 9 - Train the Agent](#9)\n",
    "- [ 10 - See the Trained Agent In Action](#10)\n",
    "- [ 11 - Congratulations!](#11)\n",
    "- [ 12 - References](#12)\n"
   ]
  },
  {
   "cell_type": "markdown",
   "metadata": {},
   "source": [
    "_**NOTE:** To prevent errors from the autograder, you are not allowed to edit or delete non-graded cells in this lab. Please also refrain from adding any new cells. \n",
    "**Once you have passed this assignment** and want to experiment with any of the non-graded code, you may follow the instructions at the bottom of this notebook._"
   ]
  },
  {
   "cell_type": "markdown",
   "metadata": {},
   "source": [
    "<a name=\"1\"></a>\n",
    "## 1 - Import Packages\n",
    "\n",
    "We'll make use of the following packages:\n",
    "- `numpy` is a package for scientific computing in python.\n",
    "- `deque` will be our data structure for our memory buffer.\n",
    "- `namedtuple` will be used to store the experience tuples.\n",
    "- The `gym` toolkit is a collection of environments that can be used to test reinforcement learning algorithms. We should note that in this notebook we are using `gym` version `0.24.0`.\n",
    "- `PIL.Image` and `pyvirtualdisplay` are needed to render the Lunar Lander environment.\n",
    "- We will use several modules from the `tensorflow.keras` framework for building deep learning models.\n",
    "- `utils` is a module that contains helper functions for this assignment. You do not need to modify the code in this file.\n",
    "\n",
    "Run the cell below to import all the necessary packages."
   ]
  },
  {
   "cell_type": "code",
   "execution_count": 19,
   "metadata": {
    "deletable": false,
    "editable": false,
    "id": "KYbOPKRtfQOr"
   },
   "outputs": [],
   "source": [
    "import time\n",
    "from collections import deque, namedtuple\n",
    "\n",
    "import gym\n",
    "import numpy as np\n",
    "import PIL.Image\n",
    "import tensorflow as tf\n",
    "import utils\n",
    "\n",
    "from pyvirtualdisplay import Display\n",
    "from tensorflow.keras import Sequential\n",
    "from tensorflow.keras.layers import Dense, Input\n",
    "from tensorflow.keras.losses import MSE\n",
    "from tensorflow.keras.optimizers import Adam"
   ]
  },
  {
   "cell_type": "code",
   "execution_count": 20,
   "metadata": {
    "deletable": false,
    "editable": false
   },
   "outputs": [],
   "source": [
    "# Set up a virtual display to render the Lunar Lander environment.\n",
    "Display(visible=0, size=(840, 480)).start();\n",
    "\n",
    "# Set the random seed for TensorFlow\n",
    "tf.random.set_seed(utils.SEED)"
   ]
  },
  {
   "cell_type": "markdown",
   "metadata": {},
   "source": [
    "<a name=\"2\"></a>\n",
    "## 2 - Hyperparameters\n",
    "\n",
    "Run the cell below to set the hyperparameters."
   ]
  },
  {
   "cell_type": "code",
   "execution_count": 21,
   "metadata": {
    "deletable": false,
    "editable": false
   },
   "outputs": [],
   "source": [
    "MEMORY_SIZE = 100_000     # size of memory buffer\n",
    "GAMMA = 0.995             # discount factor\n",
    "ALPHA = 1e-3              # learning rate  \n",
    "NUM_STEPS_FOR_UPDATE = 4  # perform a learning update every C time steps"
   ]
  },
  {
   "cell_type": "markdown",
   "metadata": {},
   "source": [
    "<a name=\"3\"></a>\n",
    "## 3 - The Lunar Lander Environment\n",
    "\n",
    "In this notebook we will be using [OpenAI's Gym Library](https://www.gymlibrary.dev/). The Gym library provides a wide variety of environments for reinforcement learning. To put it simply, an environment represents a problem or task to be solved. In this notebook, we will try to solve the Lunar Lander environment using reinforcement learning.\n",
    "\n",
    "The goal of the Lunar Lander environment is to land the lunar lander safely on the landing pad on the surface of the moon. The landing pad is designated by two flag poles and its center is at coordinates `(0,0)` but the lander is also allowed to land outside of the landing pad. The lander starts at the top center of the environment with a random initial force applied to its center of mass and has infinite fuel. The environment is considered solved if you get `200` points. \n",
    "\n",
    "<br>\n",
    "<br>\n",
    "<figure>\n",
    "  <img src = \"images/lunar_lander.gif\" width = 40%>\n",
    "      <figcaption style = \"text-align: center; font-style: italic\">Fig 1. Lunar Lander Environment.</figcaption>\n",
    "</figure>\n",
    "\n",
    "\n",
    "\n",
    "<a name=\"3.1\"></a>\n",
    "### 3.1 Action Space\n",
    "\n",
    "The agent has four discrete actions available:\n",
    "\n",
    "* Do nothing.\n",
    "* Fire right engine.\n",
    "* Fire main engine.\n",
    "* Fire left engine.\n",
    "\n",
    "Each action has a corresponding numerical value:\n",
    "\n",
    "```python\n",
    "Do nothing = 0\n",
    "Fire right engine = 1\n",
    "Fire main engine = 2\n",
    "Fire left engine = 3\n",
    "```\n",
    "\n",
    "<a name=\"3.2\"></a>\n",
    "### 3.2 Observation Space\n",
    "\n",
    "The agent's observation space consists of a state vector with 8 variables:\n",
    "\n",
    "* Its $(x,y)$ coordinates. The landing pad is always at coordinates $(0,0)$.\n",
    "* Its linear velocities $(\\dot x,\\dot y)$.\n",
    "* Its angle $\\theta$.\n",
    "* Its angular velocity $\\dot \\theta$.\n",
    "* Two booleans, $l$ and $r$, that represent whether each leg is in contact with the ground or not.\n",
    "\n",
    "<a name=\"3.3\"></a>\n",
    "### 3.3 Rewards\n",
    "\n",
    "After every step, a reward is granted. The total reward of an episode is the sum of the rewards for all the steps within that episode.\n",
    "\n",
    "For each step, the reward:\n",
    "- is increased/decreased the closer/further the lander is to the landing pad.\n",
    "- is increased/decreased the slower/faster the lander is moving.\n",
    "- is decreased the more the lander is tilted (angle not horizontal).\n",
    "- is increased by 10 points for each leg that is in contact with the ground.\n",
    "- is decreased by 0.03 points each frame a side engine is firing.\n",
    "- is decreased by 0.3 points each frame the main engine is firing.\n",
    "\n",
    "The episode receives an additional reward of -100 or +100 points for crashing or landing safely respectively.\n",
    "\n",
    "<a name=\"3.4\"></a>\n",
    "### 3.4 Episode Termination\n",
    "\n",
    "An episode ends (i.e the environment enters a terminal state) if:\n",
    "\n",
    "* The lunar lander crashes (i.e if the body of the lunar lander comes in contact with the surface of the moon).\n",
    "\n",
    "* The absolute value of the lander's $x$-coordinate is greater than 1 (i.e. it goes beyond the left or right border)\n",
    "\n",
    "You can check out the [Open AI Gym documentation](https://www.gymlibrary.dev/environments/box2d/lunar_lander/) for a full description of the environment. "
   ]
  },
  {
   "cell_type": "markdown",
   "metadata": {},
   "source": [
    "<a name=\"4\"></a>\n",
    "## 4 - Load the Environment\n",
    "\n",
    "We start by loading the `LunarLander-v2` environment from the `gym` library by using the `.make()` method. `LunarLander-v2` is the latest version of the Lunar Lander environment and you can read about its version history in the [Open AI Gym documentation](https://www.gymlibrary.dev/environments/box2d/lunar_lander/#version-history)."
   ]
  },
  {
   "cell_type": "code",
   "execution_count": 22,
   "metadata": {
    "deletable": false,
    "editable": false,
    "id": "ILVMYKewfR0n"
   },
   "outputs": [],
   "source": [
    "env = gym.make('LunarLander-v2')"
   ]
  },
  {
   "cell_type": "markdown",
   "metadata": {},
   "source": [
    "Once we load the environment we use the `.reset()` method to reset the environment to the initial state. The lander starts at the top center of the environment and we can render the first frame of the environment by using the `.render()` method."
   ]
  },
  {
   "cell_type": "code",
   "execution_count": 23,
   "metadata": {
    "deletable": false,
    "editable": false
   },
   "outputs": [
    {
     "data": {
      "image/png": "[encoded data removed]",
      "text/plain": [
       "<PIL.Image.Image image mode=RGB size=600x400 at 0x787F1C217310>"
      ]
     },
     "execution_count": 23,
     "metadata": {},
     "output_type": "execute_result"
    }
   ],
   "source": [
    "env.reset()\n",
    "PIL.Image.fromarray(env.render(mode='rgb_array'))"
   ]
  },
  {
   "cell_type": "markdown",
   "metadata": {},
   "source": [
    "In order to build our neural network later on we need to know the size of the state vector and the number of valid actions. We can get this information from our environment by using the `.observation_space.shape` and `action_space.n` methods, respectively."
   ]
  },
  {
   "cell_type": "code",
   "execution_count": 24,
   "metadata": {
    "deletable": false,
    "editable": false,
    "id": "x3fdqdG4CUu2"
   },
   "outputs": [
    {
     "name": "stdout",
     "output_type": "stream",
     "text": [
      "State Shape: (8,)\n",
      "Number of actions: 4\n"
     ]
    }
   ],
   "source": [
    "state_size = env.observation_space.shape\n",
    "num_actions = env.action_space.n\n",
    "\n",
    "print('State Shape:', state_size)\n",
    "print('Number of actions:', num_actions)"
   ]
  },
  {
   "cell_type": "markdown",
   "metadata": {},
   "source": [
    "<a name=\"5\"></a>\n",
    "## 5 - Interacting with the Gym Environment\n",
    "\n",
    "The Gym library implements the standard “agent-environment loop” formalism:\n",
    "\n",
    "<br>\n",
    "<center>\n",
    "<video src = \"./videos/rl_formalism.m4v\" width=\"840\" height=\"480\" controls autoplay loop poster=\"./images/rl_formalism.png\"> </video>\n",
    "<figcaption style = \"text-align:center; font-style:italic\">Fig 2. Agent-environment Loop Formalism.</figcaption>\n",
    "</center>\n",
    "<br>\n",
    "\n",
    "In the standard “agent-environment loop” formalism, an agent interacts with the environment in discrete time steps $t=0,1,2,...$. At each time step $t$, the agent uses a policy $\\pi$ to select an action $A_t$ based on its observation of the environment's state $S_t$. The agent receives a numerical reward $R_t$ and on the next time step, moves to a new state $S_{t+1}$.\n",
    "\n",
    "<a name=\"5.1\"></a>\n",
    "### 5.1 Exploring the Environment's Dynamics\n",
    "\n",
    "In Open AI's Gym environments, we use the `.step()` method to run a single time step of the environment's dynamics. In the version of `gym` that we are using the `.step()` method accepts an action and returns four values:\n",
    "\n",
    "* `observation` (**object**): an environment-specific object representing your observation of the environment. In the Lunar Lander environment this corresponds to a numpy array containing the positions and velocities of the lander as described in section [3.2 Observation Space](#3.2).\n",
    "\n",
    "\n",
    "* `reward` (**float**): amount of reward returned as a result of taking the given action. In the Lunar Lander environment this corresponds to a float of type `numpy.float64` as described in section [3.3 Rewards](#3.3).\n",
    "\n",
    "\n",
    "* `done` (**boolean**): When done is `True`, it indicates the episode has terminated and it’s time to reset the environment. \n",
    "\n",
    "\n",
    "* `info` (**dictionary**): diagnostic information useful for debugging. We won't be using this variable in this notebook but it is shown here for completeness.\n",
    "\n",
    "To begin an episode, we need to reset the environment to an initial state. We do this by using the `.reset()` method. "
   ]
  },
  {
   "cell_type": "code",
   "execution_count": 25,
   "metadata": {
    "deletable": false,
    "editable": false
   },
   "outputs": [],
   "source": [
    "# Reset the environment and get the initial state.\n",
    "current_state = env.reset()"
   ]
  },
  {
   "cell_type": "markdown",
   "metadata": {},
   "source": [
    "Once the environment is reset, the agent can start taking actions in the environment by using the `.step()` method. Note that the agent can only take one action per time step. \n",
    "\n",
    "In the cell below you can select different actions and see how the returned values change depending on the action taken. Remember that in this environment the agent has four discrete actions available and we specify them in code by using their corresponding numerical value:\n",
    "\n",
    "```python\n",
    "Do nothing = 0\n",
    "Fire right engine = 1\n",
    "Fire main engine = 2\n",
    "Fire left engine = 3\n",
    "```"
   ]
  },
  {
   "cell_type": "code",
   "execution_count": 26,
   "metadata": {
    "deletable": false
   },
   "outputs": [
    {
     "data": {
      "text/html": [
       "<style  type=\"text/css\" >\n",
       "    #T_45a64f96_0799_11f0_a06f_0242ac12000f th {\n",
       "          border: 1px solid grey;\n",
       "          text-align: center;\n",
       "    }    #T_45a64f96_0799_11f0_a06f_0242ac12000f tbody td {\n",
       "          border: 1px solid grey;\n",
       "          text-align: center;\n",
       "    }    #T_45a64f96_0799_11f0_a06f_0242ac12000frow0_col0 {\n",
       "            background-color :  grey;\n",
       "        }    #T_45a64f96_0799_11f0_a06f_0242ac12000frow1_col1 {\n",
       "            background-color :  grey;\n",
       "        }    #T_45a64f96_0799_11f0_a06f_0242ac12000frow1_col2 {\n",
       "            background-color :  grey;\n",
       "        }    #T_45a64f96_0799_11f0_a06f_0242ac12000frow1_col3 {\n",
       "            background-color :  grey;\n",
       "        }    #T_45a64f96_0799_11f0_a06f_0242ac12000frow1_col4 {\n",
       "            background-color :  grey;\n",
       "        }    #T_45a64f96_0799_11f0_a06f_0242ac12000frow1_col5 {\n",
       "            background-color :  grey;\n",
       "        }    #T_45a64f96_0799_11f0_a06f_0242ac12000frow1_col6 {\n",
       "            background-color :  grey;\n",
       "        }    #T_45a64f96_0799_11f0_a06f_0242ac12000frow1_col7 {\n",
       "            background-color :  grey;\n",
       "        }    #T_45a64f96_0799_11f0_a06f_0242ac12000frow1_col8 {\n",
       "            background-color :  grey;\n",
       "        }    #T_45a64f96_0799_11f0_a06f_0242ac12000frow1_col9 {\n",
       "            background-color :  grey;\n",
       "        }    #T_45a64f96_0799_11f0_a06f_0242ac12000frow1_col10 {\n",
       "            background-color :  grey;\n",
       "        }    #T_45a64f96_0799_11f0_a06f_0242ac12000frow1_col11 {\n",
       "            background-color :  grey;\n",
       "        }    #T_45a64f96_0799_11f0_a06f_0242ac12000frow2_col0 {\n",
       "            background-color :  grey;\n",
       "        }    #T_45a64f96_0799_11f0_a06f_0242ac12000frow3_col1 {\n",
       "            background-color :  grey;\n",
       "        }    #T_45a64f96_0799_11f0_a06f_0242ac12000frow3_col2 {\n",
       "            background-color :  grey;\n",
       "        }    #T_45a64f96_0799_11f0_a06f_0242ac12000frow3_col3 {\n",
       "            background-color :  grey;\n",
       "        }    #T_45a64f96_0799_11f0_a06f_0242ac12000frow3_col4 {\n",
       "            background-color :  grey;\n",
       "        }    #T_45a64f96_0799_11f0_a06f_0242ac12000frow3_col5 {\n",
       "            background-color :  grey;\n",
       "        }    #T_45a64f96_0799_11f0_a06f_0242ac12000frow3_col6 {\n",
       "            background-color :  grey;\n",
       "        }    #T_45a64f96_0799_11f0_a06f_0242ac12000frow3_col7 {\n",
       "            background-color :  grey;\n",
       "        }    #T_45a64f96_0799_11f0_a06f_0242ac12000frow3_col8 {\n",
       "            background-color :  grey;\n",
       "        }    #T_45a64f96_0799_11f0_a06f_0242ac12000frow3_col9 {\n",
       "            background-color :  grey;\n",
       "        }    #T_45a64f96_0799_11f0_a06f_0242ac12000frow3_col10 {\n",
       "            background-color :  grey;\n",
       "        }    #T_45a64f96_0799_11f0_a06f_0242ac12000frow3_col11 {\n",
       "            background-color :  grey;\n",
       "        }    #T_45a64f96_0799_11f0_a06f_0242ac12000frow4_col1 {\n",
       "            background-color :  grey;\n",
       "        }    #T_45a64f96_0799_11f0_a06f_0242ac12000frow4_col2 {\n",
       "            background-color :  grey;\n",
       "        }    #T_45a64f96_0799_11f0_a06f_0242ac12000frow4_col3 {\n",
       "            background-color :  grey;\n",
       "        }    #T_45a64f96_0799_11f0_a06f_0242ac12000frow4_col4 {\n",
       "            background-color :  grey;\n",
       "        }    #T_45a64f96_0799_11f0_a06f_0242ac12000frow4_col5 {\n",
       "            background-color :  grey;\n",
       "        }    #T_45a64f96_0799_11f0_a06f_0242ac12000frow4_col6 {\n",
       "            background-color :  grey;\n",
       "        }    #T_45a64f96_0799_11f0_a06f_0242ac12000frow4_col7 {\n",
       "            background-color :  grey;\n",
       "        }    #T_45a64f96_0799_11f0_a06f_0242ac12000frow4_col8 {\n",
       "            background-color :  grey;\n",
       "        }    #T_45a64f96_0799_11f0_a06f_0242ac12000frow4_col9 {\n",
       "            background-color :  grey;\n",
       "        }    #T_45a64f96_0799_11f0_a06f_0242ac12000frow4_col10 {\n",
       "            background-color :  grey;\n",
       "        }    #T_45a64f96_0799_11f0_a06f_0242ac12000frow4_col11 {\n",
       "            background-color :  grey;\n",
       "        }</style><table id=\"T_45a64f96_0799_11f0_a06f_0242ac12000f\" ><thead>    <tr>        <th class=\"blank level0\" ></th>        <th class=\"col_heading level0 col0\" ></th>        <th class=\"col_heading level0 col1\" colspan=8>State Vector</th>        <th class=\"col_heading level0 col9\" colspan=3>Derived from the State Vector (the closer to zero, the better)</th>    </tr>    <tr>        <th class=\"blank level1\" ></th>        <th class=\"col_heading level1 col0\" ></th>        <th class=\"col_heading level1 col1\" colspan=2>Coordinate</th>        <th class=\"col_heading level1 col3\" colspan=2>Velocity</th>        <th class=\"col_heading level1 col5\" colspan=2>Tilting</th>        <th class=\"col_heading level1 col7\" colspan=2>Ground contact</th>        <th class=\"col_heading level1 col9\" >Distance from landing pad</th>        <th class=\"col_heading level1 col10\" >Velocity</th>        <th class=\"col_heading level1 col11\" >Tilting Angle (absolute value)</th>    </tr>    <tr>        <th class=\"blank level2\" ></th>        <th class=\"col_heading level2 col0\" ></th>        <th class=\"col_heading level2 col1\" >X (Horizontal)</th>        <th class=\"col_heading level2 col2\" >Y (Vertical)</th>        <th class=\"col_heading level2 col3\" >X (Horizontal)</th>        <th class=\"col_heading level2 col4\" >Y (Vertical)</th>        <th class=\"col_heading level2 col5\" >Angle</th>        <th class=\"col_heading level2 col6\" >Angular Velocity</th>        <th class=\"col_heading level2 col7\" >Left Leg?</th>        <th class=\"col_heading level2 col8\" >Right Leg?</th>        <th class=\"col_heading level2 col9\" ></th>        <th class=\"col_heading level2 col10\" ></th>        <th class=\"col_heading level2 col11\" ></th>    </tr></thead><tbody>\n",
       "                <tr>\n",
       "                        <th id=\"T_45a64f96_0799_11f0_a06f_0242ac12000flevel0_row0\" class=\"row_heading level0 row0\" >Current State</th>\n",
       "                        <td id=\"T_45a64f96_0799_11f0_a06f_0242ac12000frow0_col0\" class=\"data row0 col0\" ></td>\n",
       "                        <td id=\"T_45a64f96_0799_11f0_a06f_0242ac12000frow0_col1\" class=\"data row0 col1\" >0.001919</td>\n",
       "                        <td id=\"T_45a64f96_0799_11f0_a06f_0242ac12000frow0_col2\" class=\"data row0 col2\" >1.422301</td>\n",
       "                        <td id=\"T_45a64f96_0799_11f0_a06f_0242ac12000frow0_col3\" class=\"data row0 col3\" >0.194400</td>\n",
       "                        <td id=\"T_45a64f96_0799_11f0_a06f_0242ac12000frow0_col4\" class=\"data row0 col4\" >0.505814</td>\n",
       "                        <td id=\"T_45a64f96_0799_11f0_a06f_0242ac12000frow0_col5\" class=\"data row0 col5\" >-0.002217</td>\n",
       "                        <td id=\"T_45a64f96_0799_11f0_a06f_0242ac12000frow0_col6\" class=\"data row0 col6\" >-0.044034</td>\n",
       "                        <td id=\"T_45a64f96_0799_11f0_a06f_0242ac12000frow0_col7\" class=\"data row0 col7\" >False</td>\n",
       "                        <td id=\"T_45a64f96_0799_11f0_a06f_0242ac12000frow0_col8\" class=\"data row0 col8\" >False</td>\n",
       "                        <td id=\"T_45a64f96_0799_11f0_a06f_0242ac12000frow0_col9\" class=\"data row0 col9\" >1.422302</td>\n",
       "                        <td id=\"T_45a64f96_0799_11f0_a06f_0242ac12000frow0_col10\" class=\"data row0 col10\" >0.541885</td>\n",
       "                        <td id=\"T_45a64f96_0799_11f0_a06f_0242ac12000frow0_col11\" class=\"data row0 col11\" >0.002217</td>\n",
       "            </tr>\n",
       "            <tr>\n",
       "                        <th id=\"T_45a64f96_0799_11f0_a06f_0242ac12000flevel0_row1\" class=\"row_heading level0 row1\" >Action</th>\n",
       "                        <td id=\"T_45a64f96_0799_11f0_a06f_0242ac12000frow1_col0\" class=\"data row1 col0\" >Do nothing</td>\n",
       "                        <td id=\"T_45a64f96_0799_11f0_a06f_0242ac12000frow1_col1\" class=\"data row1 col1\" ></td>\n",
       "                        <td id=\"T_45a64f96_0799_11f0_a06f_0242ac12000frow1_col2\" class=\"data row1 col2\" ></td>\n",
       "                        <td id=\"T_45a64f96_0799_11f0_a06f_0242ac12000frow1_col3\" class=\"data row1 col3\" ></td>\n",
       "                        <td id=\"T_45a64f96_0799_11f0_a06f_0242ac12000frow1_col4\" class=\"data row1 col4\" ></td>\n",
       "                        <td id=\"T_45a64f96_0799_11f0_a06f_0242ac12000frow1_col5\" class=\"data row1 col5\" ></td>\n",
       "                        <td id=\"T_45a64f96_0799_11f0_a06f_0242ac12000frow1_col6\" class=\"data row1 col6\" ></td>\n",
       "                        <td id=\"T_45a64f96_0799_11f0_a06f_0242ac12000frow1_col7\" class=\"data row1 col7\" ></td>\n",
       "                        <td id=\"T_45a64f96_0799_11f0_a06f_0242ac12000frow1_col8\" class=\"data row1 col8\" ></td>\n",
       "                        <td id=\"T_45a64f96_0799_11f0_a06f_0242ac12000frow1_col9\" class=\"data row1 col9\" ></td>\n",
       "                        <td id=\"T_45a64f96_0799_11f0_a06f_0242ac12000frow1_col10\" class=\"data row1 col10\" ></td>\n",
       "                        <td id=\"T_45a64f96_0799_11f0_a06f_0242ac12000frow1_col11\" class=\"data row1 col11\" ></td>\n",
       "            </tr>\n",
       "            <tr>\n",
       "                        <th id=\"T_45a64f96_0799_11f0_a06f_0242ac12000flevel0_row2\" class=\"row_heading level0 row2\" >Next State</th>\n",
       "                        <td id=\"T_45a64f96_0799_11f0_a06f_0242ac12000frow2_col0\" class=\"data row2 col0\" ></td>\n",
       "                        <td id=\"T_45a64f96_0799_11f0_a06f_0242ac12000frow2_col1\" class=\"data row2 col1\" >0.003839</td>\n",
       "                        <td id=\"T_45a64f96_0799_11f0_a06f_0242ac12000frow2_col2\" class=\"data row2 col2\" >1.433103</td>\n",
       "                        <td id=\"T_45a64f96_0799_11f0_a06f_0242ac12000frow2_col3\" class=\"data row2 col3\" >0.194137</td>\n",
       "                        <td id=\"T_45a64f96_0799_11f0_a06f_0242ac12000frow2_col4\" class=\"data row2 col4\" >0.480094</td>\n",
       "                        <td id=\"T_45a64f96_0799_11f0_a06f_0242ac12000frow2_col5\" class=\"data row2 col5\" >-0.004393</td>\n",
       "                        <td id=\"T_45a64f96_0799_11f0_a06f_0242ac12000frow2_col6\" class=\"data row2 col6\" >-0.043519</td>\n",
       "                        <td id=\"T_45a64f96_0799_11f0_a06f_0242ac12000frow2_col7\" class=\"data row2 col7\" >False</td>\n",
       "                        <td id=\"T_45a64f96_0799_11f0_a06f_0242ac12000frow2_col8\" class=\"data row2 col8\" >False</td>\n",
       "                        <td id=\"T_45a64f96_0799_11f0_a06f_0242ac12000frow2_col9\" class=\"data row2 col9\" >1.433108</td>\n",
       "                        <td id=\"T_45a64f96_0799_11f0_a06f_0242ac12000frow2_col10\" class=\"data row2 col10\" >0.517860</td>\n",
       "                        <td id=\"T_45a64f96_0799_11f0_a06f_0242ac12000frow2_col11\" class=\"data row2 col11\" >0.004393</td>\n",
       "            </tr>\n",
       "            <tr>\n",
       "                        <th id=\"T_45a64f96_0799_11f0_a06f_0242ac12000flevel0_row3\" class=\"row_heading level0 row3\" >Reward</th>\n",
       "                        <td id=\"T_45a64f96_0799_11f0_a06f_0242ac12000frow3_col0\" class=\"data row3 col0\" >1.104326</td>\n",
       "                        <td id=\"T_45a64f96_0799_11f0_a06f_0242ac12000frow3_col1\" class=\"data row3 col1\" ></td>\n",
       "                        <td id=\"T_45a64f96_0799_11f0_a06f_0242ac12000frow3_col2\" class=\"data row3 col2\" ></td>\n",
       "                        <td id=\"T_45a64f96_0799_11f0_a06f_0242ac12000frow3_col3\" class=\"data row3 col3\" ></td>\n",
       "                        <td id=\"T_45a64f96_0799_11f0_a06f_0242ac12000frow3_col4\" class=\"data row3 col4\" ></td>\n",
       "                        <td id=\"T_45a64f96_0799_11f0_a06f_0242ac12000frow3_col5\" class=\"data row3 col5\" ></td>\n",
       "                        <td id=\"T_45a64f96_0799_11f0_a06f_0242ac12000frow3_col6\" class=\"data row3 col6\" ></td>\n",
       "                        <td id=\"T_45a64f96_0799_11f0_a06f_0242ac12000frow3_col7\" class=\"data row3 col7\" ></td>\n",
       "                        <td id=\"T_45a64f96_0799_11f0_a06f_0242ac12000frow3_col8\" class=\"data row3 col8\" ></td>\n",
       "                        <td id=\"T_45a64f96_0799_11f0_a06f_0242ac12000frow3_col9\" class=\"data row3 col9\" ></td>\n",
       "                        <td id=\"T_45a64f96_0799_11f0_a06f_0242ac12000frow3_col10\" class=\"data row3 col10\" ></td>\n",
       "                        <td id=\"T_45a64f96_0799_11f0_a06f_0242ac12000frow3_col11\" class=\"data row3 col11\" ></td>\n",
       "            </tr>\n",
       "            <tr>\n",
       "                        <th id=\"T_45a64f96_0799_11f0_a06f_0242ac12000flevel0_row4\" class=\"row_heading level0 row4\" >Episode Terminated</th>\n",
       "                        <td id=\"T_45a64f96_0799_11f0_a06f_0242ac12000frow4_col0\" class=\"data row4 col0\" >False</td>\n",
       "                        <td id=\"T_45a64f96_0799_11f0_a06f_0242ac12000frow4_col1\" class=\"data row4 col1\" ></td>\n",
       "                        <td id=\"T_45a64f96_0799_11f0_a06f_0242ac12000frow4_col2\" class=\"data row4 col2\" ></td>\n",
       "                        <td id=\"T_45a64f96_0799_11f0_a06f_0242ac12000frow4_col3\" class=\"data row4 col3\" ></td>\n",
       "                        <td id=\"T_45a64f96_0799_11f0_a06f_0242ac12000frow4_col4\" class=\"data row4 col4\" ></td>\n",
       "                        <td id=\"T_45a64f96_0799_11f0_a06f_0242ac12000frow4_col5\" class=\"data row4 col5\" ></td>\n",
       "                        <td id=\"T_45a64f96_0799_11f0_a06f_0242ac12000frow4_col6\" class=\"data row4 col6\" ></td>\n",
       "                        <td id=\"T_45a64f96_0799_11f0_a06f_0242ac12000frow4_col7\" class=\"data row4 col7\" ></td>\n",
       "                        <td id=\"T_45a64f96_0799_11f0_a06f_0242ac12000frow4_col8\" class=\"data row4 col8\" ></td>\n",
       "                        <td id=\"T_45a64f96_0799_11f0_a06f_0242ac12000frow4_col9\" class=\"data row4 col9\" ></td>\n",
       "                        <td id=\"T_45a64f96_0799_11f0_a06f_0242ac12000frow4_col10\" class=\"data row4 col10\" ></td>\n",
       "                        <td id=\"T_45a64f96_0799_11f0_a06f_0242ac12000frow4_col11\" class=\"data row4 col11\" ></td>\n",
       "            </tr>\n",
       "    </tbody></table>"
      ],
      "text/plain": [
       "<pandas.io.formats.style.Styler at 0x788054570e50>"
      ]
     },
     "metadata": {},
     "output_type": "display_data"
    }
   ],
   "source": [
    "# Select an action\n",
    "action = 0\n",
    "\n",
    "# Run a single time step of the environment's dynamics with the given action.\n",
    "next_state, reward, done, _ = env.step(action)\n",
    "\n",
    "# Display table with values.\n",
    "utils.display_table(current_state, action, next_state, reward, done)\n",
    "\n",
    "# Replace the `current_state` with the state after the action is taken\n",
    "current_state = next_state"
   ]
  },
  {
   "cell_type": "markdown",
   "metadata": {},
   "source": [
    "In practice, when we train the agent we use a loop to allow the agent to take many consecutive actions during an episode."
   ]
  },
  {
   "cell_type": "markdown",
   "metadata": {},
   "source": [
    "<a name=\"6\"></a>\n",
    "## 6 - Deep Q-Learning\n",
    "\n",
    "In cases where both the state and action space are discrete we can estimate the action-value function iteratively by using the Bellman equation:\n",
    "\n",
    "$$\n",
    "Q_{i+1}(s,a) = R + \\gamma \\max_{a'}Q_i(s',a')\n",
    "$$\n",
    "\n",
    "This iterative method converges to the optimal action-value function $Q^*(s,a)$ as $i\\to\\infty$. This means that the agent just needs to gradually explore the state-action space and keep updating the estimate of $Q(s,a)$ until it converges to the optimal action-value function $Q^*(s,a)$. However, in cases where the state space is continuous it becomes practically impossible to explore the entire state-action space. Consequently, this also makes it practically impossible to gradually estimate $Q(s,a)$ until it converges to $Q^*(s,a)$.\n",
    "\n",
    "In the Deep $Q$-Learning, we solve this problem by using a neural network to estimate the action-value function $Q(s,a)\\approx Q^*(s,a)$. We call this neural network a $Q$-Network and it can be trained by adjusting its weights at each iteration to minimize the mean-squared error in the Bellman equation.\n",
    "\n",
    "Unfortunately, using neural networks in reinforcement learning to estimate action-value functions has proven to be highly unstable. Luckily, there's a couple of techniques that can be employed to avoid instabilities. These techniques consist of using a ***Target Network*** and ***Experience Replay***. We will explore these two techniques in the following sections."
   ]
  },
  {
   "cell_type": "markdown",
   "metadata": {},
   "source": [
    "<a name=\"6.1\"></a>\n",
    "### 6.1 Target Network\n",
    "\n",
    "We can train the $Q$-Network by adjusting it's weights at each iteration to minimize the mean-squared error in the Bellman equation, where the target values are given by:\n",
    "\n",
    "$$\n",
    "y = R + \\gamma \\max_{a'}Q(s',a';w)\n",
    "$$\n",
    "\n",
    "where $w$ are the weights of the $Q$-Network. This means that we are adjusting the weights $w$ at each iteration to minimize the following error:\n",
    "\n",
    "$$\n",
    "\\overbrace{\\underbrace{R + \\gamma \\max_{a'}Q(s',a'; w)}_{\\rm {y~target}} - Q(s,a;w)}^{\\rm {Error}}\n",
    "$$\n",
    "\n",
    "Notice that this forms a problem because the $y$ target is changing on every iteration. Having a constantly moving target can lead to oscillations and instabilities. To avoid this, we can create\n",
    "a separate neural network for generating the $y$ targets. We call this separate neural network the **target $\\hat Q$-Network** and it will have the same architecture as the original $Q$-Network. By using the target $\\hat Q$-Network, the above error becomes:\n",
    "\n",
    "$$\n",
    "\\overbrace{\\underbrace{R + \\gamma \\max_{a'}\\hat{Q}(s',a'; w^-)}_{\\rm {y~target}} - Q(s,a;w)}^{\\rm {Error}}\n",
    "$$\n",
    "\n",
    "where $w^-$ and $w$ are the weights of the target $\\hat Q$-Network and $Q$-Network, respectively.\n",
    "\n",
    "In practice, we will use the following algorithm: every $C$ time steps we will use the $\\hat Q$-Network to generate the $y$ targets and update the weights of the target $\\hat Q$-Network using the weights of the $Q$-Network. We will update the weights $w^-$ of the the target $\\hat Q$-Network using a **soft update**. This means that we will update the weights $w^-$ using the following rule:\n",
    " \n",
    "$$\n",
    "w^-\\leftarrow \\tau w + (1 - \\tau) w^-\n",
    "$$\n",
    "\n",
    "where $\\tau\\ll 1$. By using the soft update, we are ensuring that the target values, $y$, change slowly, which greatly improves the stability of our learning algorithm."
   ]
  },
  {
   "cell_type": "markdown",
   "metadata": {},
   "source": [
    "<a name=\"ex01\"></a>\n",
    "### Exercise 1\n",
    "\n",
    "In this exercise you will create the $Q$ and target $\\hat Q$ networks and set the optimizer. Remember that the Deep $Q$-Network (DQN) is a neural network that approximates the action-value function $Q(s,a)\\approx Q^*(s,a)$. It does this by learning how to map states to $Q$ values.\n",
    "\n",
    "To solve the Lunar Lander environment, we are going to employ a DQN with the following architecture:\n",
    "\n",
    "* An `Input` layer that takes `state_size` as input.\n",
    "\n",
    "* A `Dense` layer with `64` units and a `relu` activation function.\n",
    "\n",
    "* A `Dense` layer with `64` units and a `relu` activation function.\n",
    "\n",
    "* A `Dense` layer with `num_actions` units and a `linear` activation function. This will be the output layer of our network.\n",
    "\n",
    "\n",
    "In the cell below you should create the $Q$-Network and the target $\\hat Q$-Network using the model architecture described above. Remember that both the $Q$-Network and the target $\\hat Q$-Network have the same architecture.\n",
    "\n",
    "Lastly, you should set `Adam` as the optimizer with a learning rate equal to `ALPHA`. Recall that `ALPHA` was defined in the [Hyperparameters](#2) section. We should note that for this exercise you should use the already imported packages:\n",
    "```python\n",
    "from tensorflow.keras.layers import Dense, Input\n",
    "from tensorflow.keras.optimizers import Adam\n",
    "```"
   ]
  },
  {
   "cell_type": "code",
   "execution_count": 27,
   "metadata": {
    "deletable": false
   },
   "outputs": [],
   "source": [
    "q_network = Sequential([\n",
    "    Input(shape=state_size),                      \n",
    "    Dense(units=64, activation='relu'),            \n",
    "    Dense(units=64, activation='relu'),            \n",
    "    Dense(units=num_actions, activation='linear'),\n",
    "    ])\n",
    "\n",
    "# Create the target Q^-Network\n",
    "target_q_network = Sequential([\n",
    "    Input(shape=state_size),                       \n",
    "    Dense(units=64, activation='relu'),            \n",
    "    Dense(units=64, activation='relu'),            \n",
    "    Dense(units=num_actions, activation='linear'), \n",
    "    ])\n",
    "\n",
    "optimizer = Adam(learning_rate=ALPHA)"
   ]
  },
  {
   "cell_type": "code",
   "execution_count": 28,
   "metadata": {
    "deletable": false,
    "editable": false
   },
   "outputs": [
    {
     "name": "stdout",
     "output_type": "stream",
     "text": [
      "\u001b[92mAll tests passed!\n",
      "\u001b[92mAll tests passed!\n",
      "\u001b[92mAll tests passed!\n"
     ]
    }
   ],
   "source": [
    "# UNIT TEST\n",
    "from public_tests import *\n",
    "\n",
    "test_network(q_network)\n",
    "test_network(target_q_network)\n",
    "test_optimizer(optimizer, ALPHA) "
   ]
  },
  {
   "cell_type": "markdown",
   "metadata": {},
   "source": [
    "<details>\n",
    "  <summary><font size=\"3\" color=\"darkgreen\"><b>Click for hints</b></font></summary>\n",
    "    \n",
    "```python\n",
    "# Create the Q-Network\n",
    "q_network = Sequential([\n",
    "    Input(shape=state_size),                      \n",
    "    Dense(units=64, activation='relu'),            \n",
    "    Dense(units=64, activation='relu'),            \n",
    "    Dense(units=num_actions, activation='linear'),\n",
    "    ])\n",
    "\n",
    "# Create the target Q^-Network\n",
    "target_q_network = Sequential([\n",
    "    Input(shape=state_size),                       \n",
    "    Dense(units=64, activation='relu'),            \n",
    "    Dense(units=64, activation='relu'),            \n",
    "    Dense(units=num_actions, activation='linear'), \n",
    "    ])\n",
    "\n",
    "optimizer = Adam(learning_rate=ALPHA)                                  \n",
    "``` "
   ]
  },
  {
   "cell_type": "markdown",
   "metadata": {},
   "source": [
    "<a name=\"6.2\"></a>\n",
    "### 6.2 Experience Replay\n",
    "\n",
    "When an agent interacts with the environment, the states, actions, and rewards the agent experiences are sequential by nature. If the agent tries to learn from these consecutive experiences it can run into problems due to the strong correlations between them. To avoid this, we employ a technique known as **Experience Replay** to generate uncorrelated experiences for training our agent. Experience replay consists of storing the agent's experiences (i.e the states, actions, and rewards the agent receives) in a memory buffer and then sampling a random mini-batch of experiences from the buffer to do the learning. The experience tuples $(S_t, A_t, R_t, S_{t+1})$ will be added to the memory buffer at each time step as the agent interacts with the environment.\n",
    "\n",
    "For convenience, we will store the experiences as named tuples."
   ]
  },
  {
   "cell_type": "code",
   "execution_count": 29,
   "metadata": {
    "deletable": false,
    "editable": false
   },
   "outputs": [],
   "source": [
    "# Store experiences as named tuples\n",
    "experience = namedtuple(\"Experience\", field_names=[\"state\", \"action\", \"reward\", \"next_state\", \"done\"])"
   ]
  },
  {
   "cell_type": "markdown",
   "metadata": {},
   "source": [
    "By using experience replay we avoid problematic correlations, oscillations and instabilities. In addition, experience replay also allows the agent to potentially use the same experience in multiple weight updates, which increases data efficiency."
   ]
  },
  {
   "cell_type": "markdown",
   "metadata": {},
   "source": [
    "<a name=\"7\"></a>\n",
    "## 7 - Deep Q-Learning Algorithm with Experience Replay\n",
    "\n",
    "Now that we know all the techniques that we are going to use, we can put them together to arrive at the Deep Q-Learning Algorithm With Experience Replay.\n",
    "<br>\n",
    "<br>\n",
    "<figure>\n",
    "  <img src = \"images/deep_q_algorithm.png\" width = 90% style = \"border: thin silver solid; padding: 0px\">\n",
    "      <figcaption style = \"text-align: center; font-style: italic\">Fig 3. Deep Q-Learning with Experience Replay.</figcaption>\n",
    "</figure>"
   ]
  },
  {
   "cell_type": "markdown",
   "metadata": {},
   "source": [
    "<a name=\"ex02\"></a>\n",
    "### Exercise 2\n",
    "\n",
    "In this exercise you will implement line ***12*** of the algorithm outlined in *Fig 3* above and you will also compute the loss between the $y$ targets and the $Q(s,a)$ values. In the cell below, complete the `compute_loss` function by setting the $y$ targets equal to:\n",
    "\n",
    "$$\n",
    "\\begin{equation}\n",
    "    y_j =\n",
    "    \\begin{cases}\n",
    "      R_j & \\text{if episode terminates at step  } j+1\\\\\n",
    "      R_j + \\gamma \\max_{a'}\\hat{Q}(s_{j+1},a') & \\text{otherwise}\\\\\n",
    "    \\end{cases}       \n",
    "\\end{equation}\n",
    "$$\n",
    "\n",
    "Here are a couple of things to note:\n",
    "\n",
    "* The `compute_loss` function takes in a mini-batch of experience tuples. This mini-batch of experience tuples is unpacked to extract the `states`, `actions`, `rewards`, `next_states`, and `done_vals`. You should keep in mind that these variables are *TensorFlow Tensors* whose size will depend on the mini-batch size. For example, if the mini-batch size is `64` then both `rewards` and `done_vals` will be TensorFlow Tensors with `64` elements.\n",
    "\n",
    "\n",
    "* Using `if/else` statements to set the $y$ targets will not work when the variables are tensors with many elements. However, notice that you can use the `done_vals` to implement the above in a single line of code. To do this, recall that the `done` variable is a Boolean variable that takes the value `True` when an episode terminates at step $j+1$ and it is `False` otherwise. Taking into account that a Boolean value of `True` has the numerical value of `1` and a Boolean value of `False` has the numerical value of `0`, you can use the factor `(1 - done_vals)` to implement the above in a single line of code. Here's a hint: notice that `(1 - done_vals)` has a value of `0` when `done_vals` is `True` and a value of `1` when `done_vals` is `False`. \n",
    "\n",
    "Lastly, compute the loss by calculating the Mean-Squared Error (`MSE`) between the `y_targets` and the `q_values`. To calculate the mean-squared error you should use the already imported package `MSE`:\n",
    "```python\n",
    "from tensorflow.keras.losses import MSE\n",
    "```"
   ]
  },
  {
   "cell_type": "code",
   "execution_count": 30,
   "metadata": {
    "deletable": false
   },
   "outputs": [],
   "source": [
    "# UNQ_C2\n",
    "# GRADED FUNCTION: calculate_loss\n",
    "\n",
    "def compute_loss(experiences, gamma, q_network, target_q_network):\n",
    "    \"\"\" \n",
    "    Calculates the loss.\n",
    "    \n",
    "    Args:\n",
    "      experiences: (tuple) tuple of [\"state\", \"action\", \"reward\", \"next_state\", \"done\"] namedtuples\n",
    "      gamma: (float) The discount factor.\n",
    "      q_network: (tf.keras.Sequential) Keras model for predicting the q_values\n",
    "      target_q_network: (tf.keras.Sequential) Keras model for predicting the targets\n",
    "          \n",
    "    Returns:\n",
    "      loss: (TensorFlow Tensor(shape=(0,), dtype=int32)) the Mean-Squared Error between\n",
    "            the y targets and the Q(s,a) values.\n",
    "    \"\"\"\n",
    "\n",
    "    # Unpack the mini-batch of experience tuples\n",
    "    states, actions, rewards, next_states, done_vals = experiences\n",
    "    \n",
    "    # Compute max Q^(s,a)\n",
    "    max_qsa = tf.reduce_max(target_q_network(next_states), axis=-1)\n",
    "    \n",
    "    # Set y = R if episode terminates, otherwise set y = R + γ max Q^(s,a).\n",
    "    ### START CODE HERE ### \n",
    "    y_targets = rewards + gamma*max_qsa*(1 - done_vals)\n",
    "    ### END CODE HERE ###\n",
    "    \n",
    "    # Get the q_values and reshape to match y_targets\n",
    "    q_values = q_network(states)\n",
    "    q_values = tf.gather_nd(q_values, tf.stack([tf.range(q_values.shape[0]),\n",
    "                                                tf.cast(actions, tf.int32)], axis=1))\n",
    "        \n",
    "    # Compute the loss\n",
    "    ### START CODE HERE ### \n",
    "    loss = MSE(y_targets,q_values) \n",
    "    ### END CODE HERE ### \n",
    "    \n",
    "    return loss"
   ]
  },
  {
   "cell_type": "code",
   "execution_count": 31,
   "metadata": {
    "deletable": false,
    "editable": false
   },
   "outputs": [
    {
     "name": "stdout",
     "output_type": "stream",
     "text": [
      "\u001b[92mAll tests passed!\n"
     ]
    }
   ],
   "source": [
    "# UNIT TEST    \n",
    "test_compute_loss(compute_loss)"
   ]
  },
  {
   "cell_type": "markdown",
   "metadata": {},
   "source": [
    "<details>\n",
    "  <summary><font size=\"3\" color=\"darkgreen\"><b>Click for hints</b></font></summary>\n",
    "    \n",
    "```python\n",
    "def compute_loss(experiences, gamma, q_network, target_q_network):\n",
    "    \"\"\" \n",
    "    Calculates the loss.\n",
    "    \n",
    "    Args:\n",
    "      experiences: (tuple) tuple of [\"state\", \"action\", \"reward\", \"next_state\", \"done\"] namedtuples\n",
    "      gamma: (float) The discount factor.\n",
    "      q_network: (tf.keras.Sequential) Keras model for predicting the q_values\n",
    "      target_q_network: (tf.keras.Sequential) Keras model for predicting the targets\n",
    "          \n",
    "    Returns:\n",
    "      loss: (TensorFlow Tensor(shape=(0,), dtype=int32)) the Mean-Squared Error between\n",
    "            the y targets and the Q(s,a) values.\n",
    "    \"\"\"\n",
    "\n",
    "    \n",
    "    # Unpack the mini-batch of experience tuples\n",
    "    states, actions, rewards, next_states, done_vals = experiences\n",
    "    \n",
    "    # Compute max Q^(s,a)\n",
    "    max_qsa = tf.reduce_max(target_q_network(next_states), axis=-1)\n",
    "    \n",
    "    # Set y = R if episode terminates, otherwise set y = R + γ max Q^(s,a).\n",
    "    y_targets = rewards + (gamma * max_qsa * (1 - done_vals))\n",
    "    \n",
    "    # Get the q_values\n",
    "    q_values = q_network(states)\n",
    "    q_values = tf.gather_nd(q_values, tf.stack([tf.range(q_values.shape[0]),\n",
    "                                                tf.cast(actions, tf.int32)], axis=1))\n",
    "    \n",
    "    # Calculate the loss\n",
    "    loss = MSE(y_targets, q_values)\n",
    "    \n",
    "    return loss\n",
    "\n",
    "``` \n",
    "    "
   ]
  },
  {
   "cell_type": "markdown",
   "metadata": {},
   "source": [
    "<a name=\"8\"></a>\n",
    "## 8 - Update the Network Weights\n",
    "\n",
    "We will use the `agent_learn` function below to implement lines ***12 -14*** of the algorithm outlined in [Fig 3](#7). The `agent_learn` function will update the weights of the $Q$ and target $\\hat Q$ networks using a custom training loop. Because we are using a custom training loop we need to retrieve the gradients via a `tf.GradientTape` instance, and then call `optimizer.apply_gradients()` to update the weights of our $Q$-Network. Note that we are also using the `@tf.function` decorator to increase performance. Without this decorator our training will take twice as long. If you would like to know more about how to increase performance with `@tf.function` take a look at the [TensorFlow documentation](https://www.tensorflow.org/guide/function).\n",
    "\n",
    "The last line of this function updates the weights of the target $\\hat Q$-Network using a [soft update](#6.1). If you want to know how this is implemented in code we encourage you to take a look at the `utils.update_target_network` function in the `utils` module."
   ]
  },
  {
   "cell_type": "code",
   "execution_count": 32,
   "metadata": {
    "deletable": false,
    "editable": false
   },
   "outputs": [],
   "source": [
    "@tf.function\n",
    "def agent_learn(experiences, gamma):\n",
    "    \"\"\"\n",
    "    Updates the weights of the Q networks.\n",
    "    \n",
    "    Args:\n",
    "      experiences: (tuple) tuple of [\"state\", \"action\", \"reward\", \"next_state\", \"done\"] namedtuples\n",
    "      gamma: (float) The discount factor.\n",
    "    \n",
    "    \"\"\"\n",
    "    \n",
    "    # Calculate the loss\n",
    "    with tf.GradientTape() as tape:\n",
    "        loss = compute_loss(experiences, gamma, q_network, target_q_network)\n",
    "\n",
    "    # Get the gradients of the loss with respect to the weights.\n",
    "    gradients = tape.gradient(loss, q_network.trainable_variables)\n",
    "    \n",
    "    # Update the weights of the q_network.\n",
    "    optimizer.apply_gradients(zip(gradients, q_network.trainable_variables))\n",
    "\n",
    "    # update the weights of target q_network\n",
    "    utils.update_target_network(q_network, target_q_network)"
   ]
  },
  {
   "cell_type": "markdown",
   "metadata": {},
   "source": [
    "<a name=\"9\"></a>\n",
    "## 9 - Train the Agent\n",
    "\n",
    "We are now ready to train our agent to solve the Lunar Lander environment. In the cell below we will implement the algorithm in [Fig 3](#7) line by line (please note that we have included the same algorithm below for easy reference. This will prevent you from scrolling up and down the notebook):\n",
    "\n",
    "* **Line 1**: We initialize the `memory_buffer` with a capacity of $N =$ `MEMORY_SIZE`. Notice that we are using a `deque` as the data structure for our `memory_buffer`.\n",
    "\n",
    "\n",
    "* **Line 2**: We skip this line since we already initialized the `q_network` in [Exercise 1](#ex01).\n",
    "\n",
    "\n",
    "* **Line 3**: We initialize the `target_q_network` by setting its weights to be equal to those of the `q_network`.\n",
    "\n",
    "\n",
    "* **Line 4**: We start the outer loop. Notice that we have set $M =$ `num_episodes = 2000`. This number is reasonable because the agent should be able to solve the Lunar Lander environment in less than `2000` episodes using this notebook's default parameters.\n",
    "\n",
    "\n",
    "* **Line 5**: We use the `.reset()` method to reset the environment to the initial state and get the initial state.\n",
    "\n",
    "\n",
    "* **Line 6**: We start the inner loop. Notice that we have set $T =$ `max_num_timesteps = 1000`. This means that the episode will automatically terminate if the episode hasn't terminated after `1000` time steps.\n",
    "\n",
    "\n",
    "* **Line 7**: The agent observes the current `state` and chooses an `action` using an $\\epsilon$-greedy policy. Our agent starts out using a value of $\\epsilon =$ `epsilon = 1` which yields an $\\epsilon$-greedy policy that is equivalent to the equiprobable random policy. This means that at the beginning of our training, the agent is just going to take random actions regardless of the observed `state`. As training progresses we will decrease the value of $\\epsilon$ slowly towards a minimum value using a given $\\epsilon$-decay rate. We want this minimum value to be close to zero because a value of $\\epsilon = 0$ will yield an $\\epsilon$-greedy policy that is equivalent to the greedy policy. This means that towards the end of training, the agent will lean towards selecting the `action` that it believes (based on its past experiences) will maximize $Q(s,a)$. We will set the minimum $\\epsilon$ value to be `0.01` and not exactly 0 because we always want to keep a little bit of exploration during training. If you want to know how this is implemented in code we encourage you to take a look at the `utils.get_action` function in the `utils` module.\n",
    "\n",
    "\n",
    "* **Line 8**: We use the `.step()` method to take the given `action` in the environment and get the `reward` and the `next_state`. \n",
    "\n",
    "\n",
    "* **Line 9**: We store the `experience(state, action, reward, next_state, done)` tuple in our `memory_buffer`. Notice that we also store the `done` variable so that we can keep track of when an episode terminates. This allowed us to set the $y$ targets in [Exercise 2](#ex02).\n",
    "\n",
    "\n",
    "* **Line 10**: We check if the conditions are met to perform a learning update. We do this by using our custom `utils.check_update_conditions` function. This function checks if $C =$ `NUM_STEPS_FOR_UPDATE = 4` time steps have occured and if our `memory_buffer` has enough experience tuples to fill a mini-batch. For example, if the mini-batch size is `64`, then our `memory_buffer` should have more than `64` experience tuples in order to pass the latter condition. If the conditions are met, then the `utils.check_update_conditions` function will return a value of `True`, otherwise it will return a value of `False`.\n",
    "\n",
    "\n",
    "* **Lines 11 - 14**: If the `update` variable is `True` then we perform a learning update. The learning update consists of sampling a random mini-batch of experience tuples from our `memory_buffer`, setting the $y$ targets, performing gradient descent, and updating the weights of the networks. We will use the `agent_learn` function we defined in [Section 8](#8) to perform the latter 3.\n",
    "\n",
    "\n",
    "* **Line 15**: At the end of each iteration of the inner loop we set `next_state` as our new `state` so that the loop can start again from this new state. In addition, we check if the episode has reached a terminal state (i.e we check if `done = True`). If a terminal state has been reached, then we break out of the inner loop.\n",
    "\n",
    "\n",
    "* **Line 16**: At the end of each iteration of the outer loop we update the value of $\\epsilon$, and check if the environment has been solved. We consider that the environment has been solved if the agent receives an average of `200` points in the last `100` episodes. If the environment has not been solved we continue the outer loop and start a new episode.\n",
    "\n",
    "Finally, we wanted to note that we have included some extra variables to keep track of the total number of points the agent received in each episode. This will help us determine if the agent has solved the environment and it will also allow us to see how our agent performed during training. We also use the `time` module to measure how long the training takes. \n",
    "\n",
    "<br>\n",
    "<br>\n",
    "<figure>\n",
    "  <img src = \"images/deep_q_algorithm.png\" width = 90% style = \"border: thin silver solid; padding: 0px\">\n",
    "      <figcaption style = \"text-align: center; font-style: italic\">Fig 4. Deep Q-Learning with Experience Replay.</figcaption>\n",
    "</figure>\n",
    "<br>\n",
    "\n",
    "**Note:** With this notebook's default parameters, the following cell takes between 10 to 15 minutes to run. "
   ]
  },
  {
   "cell_type": "code",
   "execution_count": 33,
   "metadata": {
    "deletable": false,
    "editable": false
   },
   "outputs": [
    {
     "name": "stdout",
     "output_type": "stream",
     "text": [
      "Episode 100 | Total point average of the last 100 episodes: -133.88\n",
      "Episode 200 | Total point average of the last 100 episodes: -109.81\n",
      "Episode 400 | Total point average of the last 100 episodes: 9.49471\n",
      "Episode 500 | Total point average of the last 100 episodes: 97.83\n",
      "Episode 600 | Total point average of the last 100 episodes: 147.86\n",
      "Episode 668 | Total point average of the last 100 episodes: 200.88\n",
      "\n",
      "Environment solved in 668 episodes!\n",
      "\n",
      "Total Runtime: 882.84 s (14.71 min)\n"
     ]
    }
   ],
   "source": [
    "start = time.time()\n",
    "\n",
    "num_episodes = 2000\n",
    "max_num_timesteps = 1000\n",
    "\n",
    "total_point_history = []\n",
    "\n",
    "num_p_av = 100    # number of total points to use for averaging\n",
    "epsilon = 1.0     # initial ε value for ε-greedy policy\n",
    "\n",
    "# Create a memory buffer D with capacity N\n",
    "memory_buffer = deque(maxlen=MEMORY_SIZE)\n",
    "\n",
    "# Set the target network weights equal to the Q-Network weights\n",
    "target_q_network.set_weights(q_network.get_weights())\n",
    "\n",
    "for i in range(num_episodes):\n",
    "    \n",
    "    # Reset the environment to the initial state and get the initial state\n",
    "    state = env.reset()\n",
    "    total_points = 0\n",
    "    \n",
    "    for t in range(max_num_timesteps):\n",
    "        \n",
    "        # From the current state S choose an action A using an ε-greedy policy\n",
    "        state_qn = np.expand_dims(state, axis=0)  # state needs to be the right shape for the q_network\n",
    "        q_values = q_network(state_qn)\n",
    "        action = utils.get_action(q_values, epsilon)\n",
    "        \n",
    "        # Take action A and receive reward R and the next state S'\n",
    "        next_state, reward, done, _ = env.step(action)\n",
    "        \n",
    "        # Store experience tuple (S,A,R,S') in the memory buffer.\n",
    "        # We store the done variable as well for convenience.\n",
    "        memory_buffer.append(experience(state, action, reward, next_state, done))\n",
    "        \n",
    "        # Only update the network every NUM_STEPS_FOR_UPDATE time steps.\n",
    "        update = utils.check_update_conditions(t, NUM_STEPS_FOR_UPDATE, memory_buffer)\n",
    "        \n",
    "        if update:\n",
    "            # Sample random mini-batch of experience tuples (S,A,R,S') from D\n",
    "            experiences = utils.get_experiences(memory_buffer)\n",
    "            \n",
    "            # Set the y targets, perform a gradient descent step,\n",
    "            # and update the network weights.\n",
    "            agent_learn(experiences, GAMMA)\n",
    "        \n",
    "        state = next_state.copy()\n",
    "        total_points += reward\n",
    "        \n",
    "        if done:\n",
    "            break\n",
    "            \n",
    "    total_point_history.append(total_points)\n",
    "    av_latest_points = np.mean(total_point_history[-num_p_av:])\n",
    "    \n",
    "    # Update the ε value\n",
    "    epsilon = utils.get_new_eps(epsilon)\n",
    "\n",
    "    print(f\"\\rEpisode {i+1} | Total point average of the last {num_p_av} episodes: {av_latest_points:.2f}\", end=\"\")\n",
    "\n",
    "    if (i+1) % num_p_av == 0:\n",
    "        print(f\"\\rEpisode {i+1} | Total point average of the last {num_p_av} episodes: {av_latest_points:.2f}\")\n",
    "\n",
    "    # We will consider that the environment is solved if we get an\n",
    "    # average of 200 points in the last 100 episodes.\n",
    "    if av_latest_points >= 200.0:\n",
    "        print(f\"\\n\\nEnvironment solved in {i+1} episodes!\")\n",
    "        q_network.save('lunar_lander_model.h5')\n",
    "        break\n",
    "        \n",
    "tot_time = time.time() - start\n",
    "\n",
    "print(f\"\\nTotal Runtime: {tot_time:.2f} s ({(tot_time/60):.2f} min)\")"
   ]
  },
  {
   "cell_type": "markdown",
   "metadata": {},
   "source": [
    "We can plot the total point history along with the moving average to see how our agent improved during training. If you want to know about the different plotting options available in the `utils.plot_history` function we encourage you to take a look at the `utils` module."
   ]
  },
  {
   "cell_type": "code",
   "execution_count": 34,
   "metadata": {
    "deletable": false,
    "editable": false,
    "id": "E_EUXxurfe8m",
    "scrolled": false
   },
   "outputs": [
    {
     "data": {
      "image/png": "[encoded data removed]",
      "text/plain": [
       "<Figure size 720x504 with 1 Axes>"
      ]
     },
     "metadata": {},
     "output_type": "display_data"
    }
   ],
   "source": [
    "# Plot the total point history along with the moving average\n",
    "utils.plot_history(total_point_history)"
   ]
  },
  {
   "cell_type": "markdown",
   "metadata": {
    "id": "c_xwgaX5MnYt"
   },
   "source": [
    "<a name=\"10\"></a>\n",
    "## 10 - See the Trained Agent In Action\n",
    "\n",
    "Now that we have trained our agent, we can see it in action. We will use the `utils.create_video` function to create a video of our agent interacting with the environment using the trained $Q$-Network. The `utils.create_video` function uses the `imageio` library to create the video. This library produces some warnings that can be distracting, so, to suppress these warnings we run the code below."
   ]
  },
  {
   "cell_type": "code",
   "execution_count": 35,
   "metadata": {
    "deletable": false,
    "editable": false
   },
   "outputs": [],
   "source": [
    "# Suppress warnings from imageio\n",
    "import logging\n",
    "logging.getLogger().setLevel(logging.ERROR)"
   ]
  },
  {
   "cell_type": "markdown",
   "metadata": {},
   "source": [
    "In the cell below we create a video of our agent interacting with the Lunar Lander environment using the trained `q_network`. The video is saved to the `videos` folder with the given `filename`. We use the `utils.embed_mp4` function to embed the video in the Jupyter Notebook so that we can see it here directly without having to download it.\n",
    "\n",
    "We should note that since the lunar lander starts with a random initial force applied to its center of mass, every time you run the cell below you will see a different video. If the agent was trained properly, it should be able to land the lunar lander in the landing pad every time, regardless of the initial force applied to its center of mass."
   ]
  },
  {
   "cell_type": "code",
   "execution_count": 36,
   "metadata": {
    "deletable": false,
    "editable": false,
    "id": "3Ttb_zLeJKiG"
   },
   "outputs": [
    {
     "data": {
      "text/html": [
       "\n",
       "    <video width=\"840\" height=\"480\" controls>\n",
       "    <source src=\"data:video/mp4;base64,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\" type=\"video/mp4\">\n",
       "    Your browser does not support the video tag.\n",
       "    </video>"
      ],
      "text/plain": [
       "<IPython.core.display.HTML object>"
      ]
     },
     "execution_count": 36,
     "metadata": {},
     "output_type": "execute_result"
    }
   ],
   "source": [
    "filename = \"./videos/lunar_lander.mp4\"\n",
    "\n",
    "utils.create_video(filename, env, q_network)\n",
    "utils.embed_mp4(filename)"
   ]
  },
  {
   "cell_type": "markdown",
   "metadata": {},
   "source": [
    "<a name=\"11\"></a>\n",
    "## 11 - Congratulations!\n",
    "\n",
    "You have successfully used Deep Q-Learning with Experience Replay to train an agent to land a lunar lander safely on a landing pad on the surface of the moon. Congratulations!"
   ]
  },
  {
   "cell_type": "markdown",
   "metadata": {},
   "source": [
    "<a name=\"12\"></a>\n",
    "## 12 - References\n",
    "\n",
    "If you would like to learn more about Deep Q-Learning, we recommend you check out the following papers.\n",
    "\n",
    "\n",
    "* Mnih, V., Kavukcuoglu, K., Silver, D. et al. Human-level control through deep reinforcement learning. Nature 518, 529–533 (2015).\n",
    "\n",
    "\n",
    "* Lillicrap, T. P., Hunt, J. J., Pritzel, A., et al. Continuous Control with Deep Reinforcement Learning. ICLR (2016).\n",
    "\n",
    "\n",
    "* Mnih, V., Kavukcuoglu, K., Silver, D. et al. Playing Atari with Deep Reinforcement Learning. arXiv e-prints.  arXiv:1312.5602 (2013)."
   ]
  },
  {
   "cell_type": "markdown",
   "metadata": {},
   "source": [
    "<details>\n",
    "  <summary><font size=\"2\" color=\"darkgreen\"><b>Please click here if you want to experiment with any of the non-graded code.</b></font></summary>\n",
    "    <p><i><b>Important Note: Please only do this when you've already passed the assignment to avoid problems with the autograder.</b></i>\n",
    "    <ol>\n",
    "        <li> On the notebook’s menu, click “View” > “Cell Toolbar” > “Edit Metadata”</li>\n",
    "        <li> Hit the “Edit Metadata” button next to the code cell which you want to lock/unlock</li>\n",
    "        <li> Set the attribute value for “editable” to:\n",
    "            <ul>\n",
    "                <li> “true” if you want to unlock it </li>\n",
    "                <li> “false” if you want to lock it </li>\n",
    "            </ul>\n",
    "        </li>\n",
    "        <li> On the notebook’s menu, click “View” > “Cell Toolbar” > “None” </li>\n",
    "    </ol>\n",
    "    <p> Here's a short demo of how to do the steps above: \n",
    "        <br>\n",
    "        <img src=\"https://lh3.google.com/u/0/d/14Xy_Mb17CZVgzVAgq7NCjMVBvSae3xO1\" align=\"center\" alt=\"unlock_cells.gif\">\n",
    "</details>"
   ]
  }
 ],
 "metadata": {
  "accelerator": "GPU",
  "colab": {
   "collapsed_sections": [],
   "name": "TensorFlow - Lunar Lander.ipynb",
   "provenance": []
  },
  "kernelspec": {
   "display_name": "Python 3",
   "language": "python",
   "name": "python3"
  },
  "language_info": {
   "codemirror_mode": {
    "name": "ipython",
    "version": 3
   },
   "file_extension": ".py",
   "mimetype": "text/x-python",
   "name": "python",
   "nbconvert_exporter": "python",
   "pygments_lexer": "ipython3",
   "version": "3.7.6"
  }
 },
 "nbformat": 4,
 "nbformat_minor": 1
}
